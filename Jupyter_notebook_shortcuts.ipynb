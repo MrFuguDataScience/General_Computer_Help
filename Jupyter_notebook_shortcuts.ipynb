{
 "cells": [
  {
   "cell_type": "markdown",
   "id": "b164d5f0",
   "metadata": {},
   "source": [
    "# `Jupyter Basics Help: Keyboard Shortcuts`\n",
    "\n",
    "# <font color =red>Mr Fugu Data Science</font>\n",
    "\n",
    "# (◕‿◕✿)"
   ]
  },
  {
   "cell_type": "markdown",
   "id": "d1fb3fa8",
   "metadata": {},
   "source": [
    "# Here is something often overlooked: \n",
    "\n",
    "**`There are two versions we work with while using Jupyter Notebook or Google Colab`**\n",
    "\n",
    "+ **`Edit Mode:`** This is when the cursor is blinking in the cell.\n",
    "    + If you click the cell but don't see it blinking just hit `enter`\n",
    "    + to escape just use `Esc`\n",
    "\n",
    "+ **`Command Mode:`** This will be available when you are not seeing a blinking cursor on the cell. If you desire to change this, just do `Esc`\n",
    "\n",
    "*`As a side note some of the shortcuts will work with both functionality`*"
   ]
  },
  {
   "cell_type": "code",
   "execution_count": 1,
   "id": "cd791f6e",
   "metadata": {},
   "outputs": [
    {
     "ename": "SyntaxError",
     "evalue": "unmatched ')' (751791712.py, line 3)",
     "output_type": "error",
     "traceback": [
      "\u001b[0;36m  Cell \u001b[0;32mIn[1], line 3\u001b[0;36m\u001b[0m\n\u001b[0;31m    1.) `Move lines of code up and down:` Hold **option** then toggle the **up/down** arrow to move\u001b[0m\n\u001b[0m      ^\u001b[0m\n\u001b[0;31mSyntaxError\u001b[0m\u001b[0;31m:\u001b[0m unmatched ')'\n"
     ]
    }
   ],
   "source": [
    "# `Lets' Practice some examples:`\n",
    "\n",
    "1.) `Move lines of code up and down:` Hold **option** then toggle the **up/down** arrow to move\n",
    "\n",
    "2.) `Copy block of text in cell block:` **Command + A**\n",
    "\n",
    "3.) `Convert cell to markdown:`"
   ]
  },
  {
   "cell_type": "markdown",
   "id": "85295d70",
   "metadata": {},
   "source": [
    "# Ex. 1) \n",
    "\n",
    "+ Highlight Text Block\n",
    "+ Copy Everything\n",
    "+ Indent Everything\n",
    "+ Paste Everything into `Below` cell\n",
    "    + if you click below the cell it paste into the 2<sup>nd</sup> cell"
   ]
  },
  {
   "cell_type": "code",
   "execution_count": null,
   "id": "6cd51c11",
   "metadata": {},
   "outputs": [],
   "source": []
  },
  {
   "cell_type": "markdown",
   "id": "da8b0d63",
   "metadata": {},
   "source": [
    "# `Ex. 2) `\n",
    "\n",
    "+ Move line of code up or down\n",
    "+ Copy code Block\n",
    "+ Convert code block to Text (markdown)\n",
    "+ Convert code block to Raw\n",
    "+ Convert code block to Code"
   ]
  },
  {
   "cell_type": "code",
   "execution_count": null,
   "id": "9df6894c",
   "metadata": {},
   "outputs": [],
   "source": [
    "#Ex. 3)"
   ]
  },
  {
   "cell_type": "code",
   "execution_count": null,
   "id": "90a0cb2b",
   "metadata": {},
   "outputs": [],
   "source": [
    "#Ex. 4)"
   ]
  },
  {
   "cell_type": "code",
   "execution_count": null,
   "id": "34d0080d",
   "metadata": {},
   "outputs": [],
   "source": []
  },
  {
   "cell_type": "markdown",
   "id": "c4c6eac1",
   "metadata": {},
   "source": [
    "# Like, Share & <font color=red>SUB</font>scribe"
   ]
  }
 ],
 "metadata": {
  "kernelspec": {
   "display_name": "Python 3 (ipykernel)",
   "language": "python",
   "name": "python3"
  },
  "language_info": {
   "codemirror_mode": {
    "name": "ipython",
    "version": 3
   },
   "file_extension": ".py",
   "mimetype": "text/x-python",
   "name": "python",
   "nbconvert_exporter": "python",
   "pygments_lexer": "ipython3",
   "version": "3.10.9"
  }
 },
 "nbformat": 4,
 "nbformat_minor": 5
}
