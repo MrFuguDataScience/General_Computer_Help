{
 "cells": [
  {
   "cell_type": "markdown",
   "id": "c1f31ef1",
   "metadata": {},
   "source": [
    "# `Jupyter Basics Help: Keyboard Shortcuts`\n",
    "\n",
    "# <font color =red>Mr Fugu Data Science</font>\n",
    "\n",
    "# (◕‿◕✿)"
   ]
  },
  {
   "cell_type": "markdown",
   "id": "40d2f23d",
   "metadata": {},
   "source": [
    "# Here is something often overlooked: \n",
    "\n",
    "**`There are two versions we work with while using Jupyter Notebook or Google Colab`**\n",
    "\n",
    "+ **`Edit Mode:`** This is when the cursor is blinking in the cell and typical when you are typing.\n",
    "    + If you click the cell but don't see it blinking just hit **`enter`**\n",
    "    + to escape just use `Esc`\n",
    "\n",
    "+ **`Command Mode:`** This will be available when you are not seeing a blinking cursor on the cell. If you desire to change this, just do **`Esc`**\n",
    "\n",
    "*`There is a difference you will see in the color of the cell from green - blue!`*"
   ]
  },
  {
   "cell_type": "markdown",
   "id": "dde58da0",
   "metadata": {},
   "source": [
    "# `Lets' Practice some examples:`\n"
   ]
  },
  {
   "cell_type": "markdown",
   "id": "2e2a4e1c",
   "metadata": {},
   "source": [
    "# `Ex.1`) \n",
    "\n",
    "+ *Highlight Text Block:* **`Command + A`** after you click the actual cell and it turns green\n",
    "+ *Copy Everything:* **`Enter + C`**\n",
    "+ *Indent Everything:* **`Command + ]`** to the right\n",
    "    + *Indent in reverse:* **`Tab + Shift`** or **`Command + [`** to go left\n",
    "+ *Paste Everything into* `Below` *cell:* **`V`** but it will overwrite what is in next cell!\n",
    "    + *if you click below the cell it paste into the* 2<sup>nd</sup> *cell*\n",
    "+ *Start or End of Cell:* **`Command + left/right arrow`** \n",
    "    + *Top to Bottom of Cell:*  **`Command + up/down arrow`** \n",
    "+ *Skip words:* **`option + left/right arrow`**\n",
    "+ *Toggle from top or bottom of cell block:* **`Command up/down`** this is used in command mode!"
   ]
  },
  {
   "cell_type": "code",
   "execution_count": 5,
   "id": "4a406406",
   "metadata": {},
   "outputs": [
    {
     "ename": "SyntaxError",
     "evalue": "invalid syntax (1879549873.py, line 6)",
     "output_type": "error",
     "traceback": [
      "\u001b[0;36m  Cell \u001b[0;32mIn[5], line 6\u001b[0;36m\u001b[0m\n\u001b[0;31m    nnnn ffff jjj\u001b[0m\n\u001b[0m         ^\u001b[0m\n\u001b[0;31mSyntaxError\u001b[0m\u001b[0;31m:\u001b[0m invalid syntax\n"
     ]
    }
   ],
   "source": [
    "wrtwert hoptie\n",
    "\n",
    "sdfgsdfg\n",
    "lmbmh\n",
    "sdfgd\n",
    "nnnn ffff jjj\n",
    "vvv\n",
    "sdfgd\n",
    "lmbmh_00008888"
   ]
  },
  {
   "cell_type": "code",
   "execution_count": 5,
   "id": "abe7e437",
   "metadata": {},
   "outputs": [
    {
     "ename": "SyntaxError",
     "evalue": "invalid syntax (1879549873.py, line 6)",
     "output_type": "error",
     "traceback": [
      "\u001b[0;36m  Cell \u001b[0;32mIn[5], line 6\u001b[0;36m\u001b[0m\n\u001b[0;31m    nnnn ffff jjj\u001b[0m\n\u001b[0m         ^\u001b[0m\n\u001b[0;31mSyntaxError\u001b[0m\u001b[0;31m:\u001b[0m invalid syntax\n"
     ]
    }
   ],
   "source": [
    "wrtwert\n",
    "\n",
    "sdfgsdfg\n",
    "lmbmh\n",
    "sdfgd\n",
    "nnnn ffff jjj\n",
    "vvv\n",
    "sdfgd\n",
    "lmbmh_00008888"
   ]
  },
  {
   "cell_type": "code",
   "execution_count": 5,
   "id": "1993f068",
   "metadata": {},
   "outputs": [
    {
     "ename": "SyntaxError",
     "evalue": "invalid syntax (1879549873.py, line 6)",
     "output_type": "error",
     "traceback": [
      "\u001b[0;36m  Cell \u001b[0;32mIn[5], line 6\u001b[0;36m\u001b[0m\n\u001b[0;31m    nnnn ffff jjj\u001b[0m\n\u001b[0m         ^\u001b[0m\n\u001b[0;31mSyntaxError\u001b[0m\u001b[0;31m:\u001b[0m invalid syntax\n"
     ]
    }
   ],
   "source": [
    "wrtwert\n",
    "\n",
    "sdfgsdfg\n",
    "lmbmh\n",
    "sdfgd\n",
    "nnnn ffff jjj\n",
    "vvv\n",
    "sdfgd\n",
    "lmbmh_0000"
   ]
  },
  {
   "cell_type": "code",
   "execution_count": null,
   "id": "f401c423",
   "metadata": {},
   "outputs": [],
   "source": []
  },
  {
   "cell_type": "code",
   "execution_count": null,
   "id": "9d533d80",
   "metadata": {},
   "outputs": [],
   "source": [
    "vvv\n",
    "sdfgd\n",
    "lmbmh_0000\n",
    "\n",
    "vvv\n",
    "sdfgd\n",
    "\n",
    "vvv\n",
    "sdfgd\n",
    "lmbmh_0000"
   ]
  },
  {
   "cell_type": "markdown",
   "id": "d2ad4265",
   "metadata": {},
   "source": [
    "# `Ex.2) `\n",
    "\n",
    "+ *Move line of code up or down:* **`Command + A`**\n",
    "+ *Copy code Block:* **`Command + A`** when you are in Edit Mode (cell block is Green)\n",
    "+ *Convert Code block to Text (markdown):* **`M`** when in Command Mode\n",
    "+ *Convert code block to Raw:* **`R`** when in Command Mode\n",
    "+ *Convert code block to Code:* **`Y`** when in Command Mode"
   ]
  },
  {
   "cell_type": "code",
   "execution_count": null,
   "id": "4c4ff91e",
   "metadata": {},
   "outputs": [],
   "source": []
  },
  {
   "cell_type": "code",
   "execution_count": null,
   "id": "ee7abec5",
   "metadata": {},
   "outputs": [],
   "source": [
    "iiiii\n",
    "\n",
    "vvv\n",
    "\n",
    "bbb"
   ]
  },
  {
   "cell_type": "markdown",
   "id": "77ec4359",
   "metadata": {},
   "source": [
    "# `Ex.3)`\n",
    "\n",
    "+ Run Current Cell\n",
    "+ Run All Cells\n",
    "+ Save Notebook\n",
    "+ Delete Line\n",
    "+ Scroll Up/Down Notebook\n",
    "+ Find and Replace\n",
    "+ Delete Cell\n",
    "+ Undo Cell Delete\n",
    "+ Add Cell Below"
   ]
  },
  {
   "cell_type": "code",
   "execution_count": null,
   "id": "c884b844",
   "metadata": {},
   "outputs": [],
   "source": []
  },
  {
   "cell_type": "markdown",
   "id": "2b841df1",
   "metadata": {},
   "source": [
    "# `Ex.4)`\n",
    "\n",
    "+ Interupt Kernel\n",
    "+ Restart Kernel: R\n",
    "+ Select multiple cell blocks: shift up/down\n",
    "+ Copy cell then paste in below cell: use C or md C followed by V\n",
    "+ Split & Merge Cells: "
   ]
  },
  {
   "cell_type": "code",
   "execution_count": 2,
   "id": "145f1e04",
   "metadata": {},
   "outputs": [
    {
     "ename": "SyntaxError",
     "evalue": "invalid syntax (878086343.py, line 1)",
     "output_type": "error",
     "traceback": [
      "\u001b[0;36m  Cell \u001b[0;32mIn[2], line 1\u001b[0;36m\u001b[0m\n\u001b[0;31m    gsdfgsdfgsdfg sdfghdgfh pdfg\u001b[0m\n\u001b[0m                  ^\u001b[0m\n\u001b[0;31mSyntaxError\u001b[0m\u001b[0;31m:\u001b[0m invalid syntax\n"
     ]
    }
   ],
   "source": [
    "gsdfgsdfgsdfg sdfghdgfh pdfg\n",
    "\n",
    "yay yay ya ya"
   ]
  },
  {
   "cell_type": "markdown",
   "id": "59a90335",
   "metadata": {},
   "source": [
    "# Ex.5)\n",
    "\n",
    "+ Hold down option key, then scroll down and do your operations\n",
    "+ Increase page font size for working/reading: Cmd then +/-\n",
    "+ Page up or down one cell at a time: esc then J or K to go up or down"
   ]
  },
  {
   "cell_type": "markdown",
   "id": "77728c39",
   "metadata": {},
   "source": [
    "+ >sdfgdfg\n",
    "+ >hhh\n",
    "+ >llll\n",
    "\n",
    "+ >xxxxx"
   ]
  },
  {
   "cell_type": "markdown",
   "id": "e1724f0c",
   "metadata": {},
   "source": [
    "# Magic Functions: Quick Overview"
   ]
  },
  {
   "cell_type": "code",
   "execution_count": null,
   "id": "16d3fdbf",
   "metadata": {},
   "outputs": [],
   "source": []
  },
  {
   "cell_type": "markdown",
   "id": "76dcd1e3",
   "metadata": {},
   "source": [
    "# Like, Share & <font color=red>SUB</font>scribe"
   ]
  },
  {
   "cell_type": "markdown",
   "id": "ddd1923c",
   "metadata": {},
   "source": [
    "# `Citations:`\n",
    "\n",
    "# ◔̯◔\n",
    "\n",
    "https://www.jetbrains.com/help/dataspell/editing-jupyter-notebook-files.html#command-mode\n",
    "\n",
    "https://noteable.io/blog/jupyter-notebook-shortcuts-boost-productivity/\n",
    "\n",
    "https://www.dataschool.io/jupyter-notebook-keyboard-shortcuts/#:~:text=JupyterLab%3A%20Hit%20Shift%2BTab%20once,want%20to%20create%20new%20cursors.\n",
    "\n",
    "https://www.earthdatascience.org/courses/intro-to-earth-data-science/file-formats/use-text-files/format-text-with-markdown-jupyter-notebook/#:~:text=with%20italicized%20words-,Highlight%20Code,Here%20is%20some%20code!%60"
   ]
  }
 ],
 "metadata": {
  "kernelspec": {
   "display_name": "Python 3 (ipykernel)",
   "language": "python",
   "name": "python3"
  },
  "language_info": {
   "codemirror_mode": {
    "name": "ipython",
    "version": 3
   },
   "file_extension": ".py",
   "mimetype": "text/x-python",
   "name": "python",
   "nbconvert_exporter": "python",
   "pygments_lexer": "ipython3",
   "version": "3.10.9"
  }
 },
 "nbformat": 4,
 "nbformat_minor": 5
}
