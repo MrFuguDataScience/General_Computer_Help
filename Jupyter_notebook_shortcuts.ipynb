{
 "cells": [
  {
   "cell_type": "markdown",
   "id": "80bf823b",
   "metadata": {},
   "source": [
    "# `Jupyter Basics Help: Keyboard Shortcuts`\n",
    "# <font color=red>Mr Fugu Data Science</font>\n",
    "# (◕‿◕✿)"
   ]
  },
  {
   "cell_type": "markdown",
   "id": "40d2f23d",
   "metadata": {},
   "source": [
    "# Here is something often overlooked: \n",
    "\n",
    "**`There are two versions we work with while using Jupyter Notebook`**\n",
    "\n",
    "+ **`Edit Mode:`** This is when the cursor is blinking in the cell and typical when you are typing.\n",
    "    + If you click the cell but don't see it blinking just hit **`enter`**\n",
    "    + to escape just use `Esc`\n",
    "\n",
    "+ **`Command Mode:`** This will be available when you are not seeing a blinking cursor on the cell. If you desire to change this, just do **`Esc`**\n",
    "\n",
    "*`There is a difference you will see in the color of the cell from green - blue!`*"
   ]
  },
  {
   "cell_type": "markdown",
   "id": "dde58da0",
   "metadata": {},
   "source": [
    "# `Lets' Practice some examples:`\n"
   ]
  },
  {
   "cell_type": "markdown",
   "id": "2e2a4e1c",
   "metadata": {},
   "source": [
    "# `Ex.1`) \n",
    "\n",
    "+ *Highlight Text Block:* **`Command + A`** after you click the actual cell and it turns green\n",
    "+ *Copy Everything:* **`Enter + C`**\n",
    "+ *Indent Everything:* **`Command + ]`** to the right\n",
    "    + *Indent in reverse:* **`Tab + Shift`** or **`Command + [`** to go left\n",
    "+ *Paste Everything into* `Below` *cell:* **`V`** but it will overwrite what is in next cell!\n",
    "    + *if you click below the cell it paste into the* 2<sup>nd</sup> *cell*\n",
    "+ *Start or End of Cell:* **`Command + left/right arrow`** \n",
    "    + *Top to Bottom of Cell:*  **`Command + up/down arrow`** \n",
    "+ *Skip words:* **`option + left/right arrow`**\n",
    "+ *Toggle from top or bottom of cell block:* **`Command up/down`** this is used in command mode!"
   ]
  },
  {
   "cell_type": "markdown",
   "id": "d2ad4265",
   "metadata": {},
   "source": [
    "# `Ex.2) `\n",
    "\n",
    "+ *Copy code Block:* **`Command + A`** when you are in Edit Mode (cell block is Green)\n",
    "+ *Convert Code block to Text (markdown):* **`M`** when in Command Mode\n",
    "+ *Convert code block to Raw:* **`R`** when in Command Mode\n",
    "+ *Convert code block to Code:* **`Y`** when in Command Mode"
   ]
  },
  {
   "cell_type": "markdown",
   "id": "77ec4359",
   "metadata": {},
   "source": [
    "# `Ex.3)`\n",
    "\n",
    "+ *Run Current Cell:* **`Shift + Enter`**\n",
    "+ *Run Current Cell & Create New Cell Below:* **`Option + Enter`**\n",
    "+ *Run Current Cell Only:* **`Command + Enter`**\n",
    "+ *Save Notebook:* **`Command + S`**\n",
    "+ *Delete Line:* **`Command + D`** when in Command Mode\n",
    "+ *Scroll Down Notebook:* **`Spacebar`**\n",
    "+ *Scroll UP Notebook:* **`Shift + Spacebar`**\n",
    "+ *Find and Replace:* **`Command + F`**\n",
    "+ *Delete Cell:* **`D +D `** in Command Mode\n",
    "+ *Undo Cell Delete:* **`Command + Z`**\n",
    "+ *Add Cell Below:* **`B`** when in Command Mode\n",
    "+ *Add Cell Above:* **`A`** when in Command Mode"
   ]
  },
  {
   "cell_type": "markdown",
   "id": "2b841df1",
   "metadata": {},
   "source": [
    "# `Ex.4)`\n",
    "\n",
    "+ *Interupt Kernel:* **`I + I`** when in Command Mode\n",
    "+ *Restart Kernel:* **`0 + 0`** when in Command Mode, this is double zero\n",
    "+ *Select multiple cell blocks:* **`Shift + up/down`**\n",
    "+ *Copy cell then paste in below cell:* **`use C or Command + C, followed by V`**"
   ]
  },
  {
   "cell_type": "markdown",
   "id": "94126500",
   "metadata": {},
   "source": [
    "# Ex.5)\n",
    "\n",
    "+ **`Hold down option key, then scroll down and do your operations`**\n",
    "+ *Increase page font size for working/reading:* **`Command then +/-`**\n",
    "+ *Page up or down one cell at a time:* **`Esc then J or K`** to go up or down"
   ]
  },
  {
   "cell_type": "markdown",
   "id": "daea86cb",
   "metadata": {},
   "source": [
    "+ ––>sdfgdfg\n",
    "+ ––>hhh\n",
    "+ ––>llll\n",
    "––\n",
    "+ ––>xxxxx"
   ]
  },
  {
   "cell_type": "markdown",
   "id": "3f0ba458",
   "metadata": {},
   "source": [
    "# `Magic Functions: Quick Overview Next Video`\n",
    "\n",
    "`------------------------------------------------------------`"
   ]
  },
  {
   "cell_type": "markdown",
   "id": "76dcd1e3",
   "metadata": {},
   "source": [
    "# Like, Share & <font color=red>SUB</font>scribe"
   ]
  },
  {
   "cell_type": "markdown",
   "id": "62ca6f71",
   "metadata": {},
   "source": [
    "# `Citations:`\n",
    "\n",
    "# ◔̯◔\n",
    "\n",
    "https://www.jetbrains.com/help/dataspell/editing-jupyter-notebook-files.html#command-mode\n",
    "\n",
    "https://noteable.io/blog/jupyter-notebook-shortcuts-boost-productivity/\n",
    "\n",
    "https://www.dataschool.io/jupyter-notebook-keyboard-shortcuts/#:~:text=JupyterLab%3A%20Hit%20Shift%2BTab%20once,want%20to%20create%20new%20cursors.\n",
    "\n",
    "https://www.earthdatascience.org/courses/intro-to-earth-data-science/file-formats/use-text-files/format-text-with-markdown-jupyter-notebook/#:~:text=with%20italicized%20words-,Highlight%20Code,Here%20is%20some%20code!%60"
   ]
  }
 ],
 "metadata": {
  "kernelspec": {
   "display_name": "Python 3 (ipykernel)",
   "language": "python",
   "name": "python3"
  },
  "language_info": {
   "codemirror_mode": {
    "name": "ipython",
    "version": 3
   },
   "file_extension": ".py",
   "mimetype": "text/x-python",
   "name": "python",
   "nbconvert_exporter": "python",
   "pygments_lexer": "ipython3",
   "version": "3.10.9"
  }
 },
 "nbformat": 4,
 "nbformat_minor": 5
}
