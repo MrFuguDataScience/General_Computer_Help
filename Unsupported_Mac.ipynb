{
 "cells": [
  {
   "cell_type": "markdown",
   "id": "3787f97a",
   "metadata": {},
   "source": [
    "# `Unsupported Mac` What to do with outdated machines?\n",
    "\n",
    "# <font color=red>Mr Fugu Data Science</font>\n",
    "\n",
    "# (◕‿◕✿)\n",
    "\n",
    "# `Outcome & Objectives`\n",
    "\n",
    "+ Do you have an old but still capable Mac from 2009-2016?\n",
    "    + **Do you have an issue where you cannot update the OS because it is no longer officially supported by Apple**\n",
    "+ `Have you noticed issues with updating certain software because of hardware limiting or dependency issues` that don't allow you to get newer versions of Python, R-studio, Python Dependencies for example?\n",
    "\n",
    "`Today we will cover a few things to do to aid in the direction you should go if in this situation`"
   ]
  },
  {
   "cell_type": "markdown",
   "id": "168cba4c",
   "metadata": {},
   "source": [
    "# Getting Started:\n",
    "\n",
    "1.) Check what version of Mac and OS you have\n",
    "\n",
    "2.) Check what was the last updatable officially supported version of OS you can get with what you currently have based on hardware specs.\n",
    "\n",
    "3.) Look into 2 options now:\n",
    "\n",
    "3A.) Update to the newest version of Mac OS you can with your device and see if that is good enough\n",
    "    \n",
    "   * Upate to that version then consider getting a stable newer version using `OpenCore` boot loader\n",
    "    \n",
    "3B.) Go Straight to the `OpenCore` bootloader repo on Github and search the specs and see if that will help you"
   ]
  },
  {
   "cell_type": "markdown",
   "id": "7898c3b2",
   "metadata": {},
   "source": [
    "# `Verify if you can update OS:`\n",
    "\n",
    "+ **`You may start to encounter system requirements/hardware issues with earlier models`**\n",
    "\n",
    "[Catalina](https://support.apple.com/en-us/HT210222) | [Big Sur](https://support.apple.com/en-us/HT211238) | [Monterey](https://support.apple.com/en-us/HT212551)\n",
    "\n",
    "+ First off getting up to `Monterey` will be where the hardships occur and weeding out of very old machines becomes apparent. This I assume is a hardware issue and possibly a way of making people think they need a new machine. After all depending on your daily tasks or needs it may be neccessary but, if you still can get by and maybe can't afford a `$2-5k` Macbook pro then why upgrade now\n",
    "\n",
    "+ `Catalina:` Will support machines as far back as Mid 2012\n",
    "\n",
    "+ `Big Sur:` Oldest supported device `2013`\n",
    "\n",
    "+ `Monterey:`Oldest supported device `2015`\n",
    "\n",
    "+ `Ventura:` Oldest supported device `2017`\n",
    "\n",
    "[UVM.edu Outdated Mac info](https://www.uvm.edu/it/kb/article/outdated-macos-and-how-to-upgrade/#:~:text=If%20you%20are%20running%20macOS,at%20least%20macOS%2010.15%20Catalina.) | [32bit software issues Mac](https://support.apple.com/en-us/HT208436)\n",
    "\n",
    "`As we can see you will be phased out quite quickly with Apple's future OS updates` so what can you do?\n",
    "\n",
    "+ In this case you need to consider `OpenCore` patch which will help resolve the issues with you installing newer versions of Mac OS on unsupported devices."
   ]
  },
  {
   "cell_type": "markdown",
   "id": "7ce948fc",
   "metadata": {},
   "source": [
    "# `Side Note:`\n",
    "\n",
    "**There is another issue to talk about for those who code, video edit or want to update other software** and receive issues as well. You may over time run into issues with dependencies clashing. This happened a few weeks ago with me and really messed up my work.\n",
    "\n",
    "+ If you code for a job then you have the ability to setup a Venv with Python or use a Virtual Machine/Box\n",
    "\n",
    "But, if you are a person who uses this for other objectives and don't have the inclination or need for this then you will have some issues. \n",
    "\n",
    "+ Either you have to stay where you are at and not update\n",
    "    + Or hopefully find the boot loader from `OpenCore` to come and save you"
   ]
  },
  {
   "cell_type": "markdown",
   "id": "8a7e4191",
   "metadata": {},
   "source": [
    "# `What happened to me exactly & what do I need to do?`\n",
    "\n",
    "+ I wanted to work with Image Segmentation and related frameworks and noticed that I was having issues with my dependences. I started to narrow down what was going on and I had 2 glaring issues:\n",
    "\n",
    "1.) Since, I work alone and don't contribute work with others I was lazy and wasn't in a VM or Venv. This caused dependency problems for me. Because of this I was tracing what was wrong and after uninstalling Python, Anaconda, R-Studio, Homebrew and doing a new install of everything except Python... I still had issues and realized what the problems were.\n",
    "\n",
    "+ I found that my OS was old and I needed a newer one to run RemBG, CV2 and Torch. Which were dependent on a newer OS that I didn't have but, I could downgrade everything and try to make it work on older versions. Now, this was my first inclination but a bad idea for the long-run.\n",
    "    \n",
    "2.) Next, I noticed that I could just run everything in Google Colab without any issues but... I still am doing a bandaid approach. There still is the issue with my Mac not being supported and having to chase down all these stupid dependencies that are not just Mac OS related and I will need to be more diligent in using a virtual machine. \n",
    "+ You can get away with using Mini-Conda or Anaconda which I usually do but, **`becareful of doing system wide installs (Python or similar) like I did; avoid it if possible. Unless, you have a clear idea of what you are doing.`**"
   ]
  },
  {
   "cell_type": "markdown",
   "id": "7a5ff0e6",
   "metadata": {},
   "source": [
    "`----------------------------------------------`\n",
    "\n",
    "# `What is OpenCore?`\n",
    "\n",
    "+ OpenCore: is a `free opensource project` dedicated to aiding those who have older devices, get a longer lifespan via Mac OS updates for unsupported machines. \n",
    "    + You are replacing the native: Apple UEFI and iBoot (Apple’s bootloader) software and using the new OpenCore version as a replacement.\n",
    "        + You can think of using a new emulated UEFI\n",
    "        + This is run on startup like normal OS which will use the `Startup Disk` when booted\n",
    "    \n",
    "    \n",
    "`---------------------------------------------------`\n",
    "\n",
    "**`Kernel Extensions:`** These are used by OpenCore in order to create functionality with your device for a smooth operation.\n",
    "\n",
    "* a kernel extension can be used to increase the usablity \n",
    "\n",
    "+ There will be Kernel extensions (`kext`) which aid in for example (64-bit -> 32-bit functionality) such as **`lilu`**\n",
    "\n",
    "+ You also have **`VoodooPS2Controller`** which deals with emulation of trackpad gestures and I think piggy backs onto native Mac drivers.\n",
    "\n",
    "**`IMPORTANT Please Read:`** you are giving access to `kernels` and if used incorrectly could cause vulnerabilities to firmware and your device as a whole. Yes, developers utilize these kernels for app development but... Understand that malicious activity could ensue if you are not sure of the viability of the code you are giving access to your device ok. [Kernel info from Apple.com](https://support.apple.com/guide/security/kernel-extensions-sec8e454101b/web#:~:text=Important%3A%20Kexts%20are%20no%20longer,t%20require%20extending%20the%20kernel.)\n",
    "\n",
    "\n",
    "`--------------------------------------`\n",
    "\n",
    "\n",
    "Essentially you are in a position where Apple won't give you security updates anymore or software updates because you are using an older machine. This has a lot of implications which can be very frustrating and unless you hear about this patch, you are lost in the dark scratching your head. \n",
    "\n",
    "+ One important idea is that you are importing data via memory and not through disk. This is said to improve your experience and make it close or as good as native Mac OS. \n",
    "\n",
    "`2 options to use OpenCore:`\n",
    "\n",
    "+ USB boot load\n",
    "+ Direct to Disk\n",
    "\n",
    "[Opencore Repo Github](https://dortania.github.io/OpenCore-Legacy-Patcher/START.html) | [Lilu Kext Github](https://github.com/acidanthera/Lilu) | [VoodooPS2Controller Kext](https://github.com/acidanthera/VoodooPS2) | [Apple Advice for Kernel Extensions](https://support.apple.com/guide/security/kernel-extensions-sec8e454101b/web#:~:text=Important%3A%20Kexts%20are%20no%20longer,t%20require%20extending%20the%20kernel.)"
   ]
  },
  {
   "cell_type": "code",
   "execution_count": null,
   "id": "8f59e44a",
   "metadata": {},
   "outputs": [],
   "source": []
  },
  {
   "cell_type": "markdown",
   "id": "16a9e44a",
   "metadata": {},
   "source": [
    "# `Upon Bootup basics:`\n",
    "\n",
    "* Upon the startup process, integrity checking is done and boot-up proceeds after verifying a chain of trust.\n",
    "\n",
    "* This includes bootloaders, kernel & kernel extensions,firmware. (This is ensuring that low level programing is not affected at all by tampering) \n",
    "\n",
    "**`What if a failure occurs during the checks?`**\n",
    "\n",
    "+ Then you will need to `factory reset` your device potentially!\n",
    "\n",
    "[Apple Resource](https://support.apple.com/guide/security/boot-process-for-ios-and-ipados-devices-secb3000f149/web)"
   ]
  },
  {
   "cell_type": "markdown",
   "id": "081febda",
   "metadata": {},
   "source": [
    "# `Other options:`\n",
    "\n",
    "+ Possibly look into Linux. From what I read the wifi chipset for these models poses an issue though"
   ]
  },
  {
   "cell_type": "code",
   "execution_count": null,
   "id": "63474335",
   "metadata": {},
   "outputs": [],
   "source": []
  },
  {
   "cell_type": "markdown",
   "id": "20b71a27",
   "metadata": {},
   "source": [
    "# `Citations:`\n",
    "\n",
    "# ◔̯◔\n",
    "\n",
    "`First and foremost: Check out this guy on youtube`**Jessie's Flying** he as many videos explaining how to deal with legacy devices and how to upgrade with OpenCore\n",
    "\n",
    "https://www.youtube.com/watch?v=Isg7-Mqg2cs\n",
    "\n",
    "https://www.ctrl.blog/entry/macos-opencore-trust.html\n",
    "\n",
    "https://support.apple.com/guide/security/boot-process-for-ios-and-ipados-devices-secb3000f149/web\n",
    "\n",
    "https://insanelymacdiscord.github.io/Getting-Started-With-OpenCore/ (very good read for depth)\n",
    "\n",
    "https://github.com/acidanthera/OpenCorePkg/blob/master/Docs/Configuration.pdf (complements above read)\n",
    "\n",
    "https://support.apple.com/guide/security/kernel-extensions-sec8e454101b/web#:~:text=Important%3A%20Kexts%20are%20no%20longer,t%20require%20extending%20the%20kernel (kernel extensions & potential issues with security)"
   ]
  }
 ],
 "metadata": {
  "kernelspec": {
   "display_name": "Python 3 (ipykernel)",
   "language": "python",
   "name": "python3"
  },
  "language_info": {
   "codemirror_mode": {
    "name": "ipython",
    "version": 3
   },
   "file_extension": ".py",
   "mimetype": "text/x-python",
   "name": "python",
   "nbconvert_exporter": "python",
   "pygments_lexer": "ipython3",
   "version": "3.10.9"
  }
 },
 "nbformat": 4,
 "nbformat_minor": 5
}
