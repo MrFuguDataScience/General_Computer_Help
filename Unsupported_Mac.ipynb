{
 "cells": [
  {
   "cell_type": "markdown",
   "id": "98a09a3d",
   "metadata": {},
   "source": [
    "# `Unsupported Mac` What to do with outdated machines?\n",
    "\n",
    "# <font color=red>Mr Fugu Data Science</font>\n",
    "\n",
    "# (◕‿◕✿)\n",
    "\n",
    "# `Outcome & Objectives`\n",
    "\n",
    "+ Do you have an old but still capable Mac from 2009-2016?\n",
    "    + Do you have an issue where you cannot update the OS because it is no longer officially supported by Apple\n",
    "+ Have you noticed issues with updating certain software because of hardware limiting or dependency issues that don't allow you to get newer versions of Python, R-studio, Python Dependencies for example?\n",
    "\n",
    "`Today we will cover a few things to do to aid in the direction you should go if in this situation`"
   ]
  },
  {
   "cell_type": "markdown",
   "id": "44cc8be9",
   "metadata": {},
   "source": [
    "1.) Check what version of Mac and OS you have\n",
    "\n",
    "2.) Check what was the last updatable officially supported version of OS you can get with what you currently have based on hardware specs.\n",
    "\n",
    "3.) Look into 2 options now:\n",
    "\n",
    "    3A.) Update to the newest version of Mac OS you can with your device and see if that is good enough\n",
    "    \n",
    "        + Upate to that version then consider getting a stable newer version using `OpenCore` boot loader\n",
    "    \n",
    "    3B.) Go Straight to the `OpenCore` bootloader repo on Github and search the specs and see if that will help you"
   ]
  },
  {
   "cell_type": "markdown",
   "id": "b7bff18f",
   "metadata": {},
   "source": [
    "# `Verify if you can update OS:`\n",
    "\n",
    "+ **`You may start to encounter system requirements/hardware issues with earlier models`**\n",
    "\n",
    "[Catalina](https://support.apple.com/en-us/HT210222) | [Big Sur](https://support.apple.com/en-us/HT211238) | [Monterey](https://support.apple.com/en-us/HT212551)\n",
    "\n",
    "+ First off getting up to `Monterey` will be where the hardships occur and weeding out of very old machines becomes apparent. This I assume is a hardware issue and possibly a way of making people think they need a new machine. After all depending on your daily tasks or needs it may be neccessary but, if you still can get by and maybe can't afford a `$2-5k` Macbook pro then why upgrade now\n",
    "\n",
    "+ `Catalina:` Will support machines as far back as Mid 2012\n",
    "\n",
    "+ `Big Sur:` Oldest supported device `2013`\n",
    "\n",
    "+ `Monterey:`Oldest supported device `2015`\n",
    "\n",
    "+ `Ventura:` Oldest supported device `2017`\n",
    "\n",
    "[UVM.edu Outdated Mac info](https://www.uvm.edu/it/kb/article/outdated-macos-and-how-to-upgrade/#:~:text=If%20you%20are%20running%20macOS,at%20least%20macOS%2010.15%20Catalina.) | [32bit software issues Mac](https://support.apple.com/en-us/HT208436)\n",
    "\n",
    "`As we can see you will be phased out quite quickly with Apple's future OS updates` so what can you do?\n",
    "\n",
    "+ In this case you need to consider `OpenCore` patch which will help resolve the issues with you installing newer versions of Mac OS on unsupported devices."
   ]
  },
  {
   "cell_type": "markdown",
   "id": "9b2171fe",
   "metadata": {},
   "source": [
    "# `Side Note:`\n",
    "\n",
    "There is another issue to talk about for those who code, editiing or want to update other software and receive issues as well. You may and over time will run into issues with dependencies that clash. This happened a few weeks ago with me and really messed up my work for 2 weeks.\n",
    "\n",
    "+ If you code for a job then you have the ability to setup a Venv with Python or use a Virtual Machine/Box\n",
    "\n",
    "But, if you are a person who uses this for other objectives and don't have the inclination or need for this then you will have some issues. \n",
    "\n",
    "+ Either you have to stay where you are at and not update\n",
    "    + Or hopefully find the boot loader from `OpenCore` to come and save you"
   ]
  },
  {
   "cell_type": "markdown",
   "id": "8d0d9882",
   "metadata": {},
   "source": [
    "# `What is OpenCore?`\n",
    "\n"
   ]
  },
  {
   "cell_type": "code",
   "execution_count": null,
   "id": "b854bdbf",
   "metadata": {},
   "outputs": [],
   "source": []
  },
  {
   "cell_type": "code",
   "execution_count": null,
   "id": "d5605847",
   "metadata": {},
   "outputs": [],
   "source": []
  },
  {
   "cell_type": "markdown",
   "id": "409ad904",
   "metadata": {},
   "source": [
    "# `Citations:`\n",
    "\n",
    "# ◔̯◔\n",
    "\n",
    "`First and foremost: Check out this guy on youtube`**Jessie's Flying** he as many videos explaining how to deal with legacy devices and how to upgrade with OpenCore\n",
    "\n",
    "https://www.youtube.com/watch?v=Isg7-Mqg2cs\n"
   ]
  }
 ],
 "metadata": {
  "kernelspec": {
   "display_name": "Python 3 (ipykernel)",
   "language": "python",
   "name": "python3"
  },
  "language_info": {
   "codemirror_mode": {
    "name": "ipython",
    "version": 3
   },
   "file_extension": ".py",
   "mimetype": "text/x-python",
   "name": "python",
   "nbconvert_exporter": "python",
   "pygments_lexer": "ipython3",
   "version": "3.10.9"
  }
 },
 "nbformat": 4,
 "nbformat_minor": 5
}
