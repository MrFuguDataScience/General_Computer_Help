{
 "cells": [
  {
   "cell_type": "markdown",
   "id": "97f23536",
   "metadata": {},
   "source": [
    "# `How To Download File Online & Unzip Files using Python`\n",
    "\n",
    "# <font color=red>Mr Fugu Data Science</font>\n",
    "\n",
    "# (｡◕‿◕｡)\n",
    "\n",
    "`-------------------------------`\n",
    "\n",
    "READ THIS...\n",
    "\n",
    "**`NEVER EXTRACT files from UNKNOWN SOURCES...`**"
   ]
  },
  {
   "cell_type": "code",
   "execution_count": 1,
   "id": "24813268",
   "metadata": {},
   "outputs": [],
   "source": [
    "# Allow us to make curl requests to grab our file here\n",
    "import requests\n",
    "\n",
    "# We will use this to get files from our computer\n",
    "import os\n",
    "\n",
    "# Zip/unzip files\n",
    "from zipfile import ZipFile"
   ]
  },
  {
   "cell_type": "code",
   "execution_count": null,
   "id": "11b9dbab",
   "metadata": {},
   "outputs": [],
   "source": [
    "# Url of interest to download zip file\n",
    "url='https://edgedl.me.gvt1.com/edgedl/chrome/chrome-for-testing/116.0.5845.96/mac-x64/chromedriver-mac-x64.zip'\n",
    "\n",
    "# Run curl request\n",
    "response = requests.get(url)\n",
    "\n",
    "print(response.ok,response.status_code)\n",
    "\n",
    "\n",
    "\n",
    "with open(\"chromedriver-mac-x64.zip\", mode=\"wb\") as file:\n",
    "    file.write(response.content)"
   ]
  },
  {
   "cell_type": "markdown",
   "id": "5b235670",
   "metadata": {},
   "source": [
    "# `What is Occurring Above?`\n",
    "\n",
    "`-----------------------------------------`\n",
    "\n",
    "+ First off, I need to mention that by default you are creating a Zip file but it is `NOT compressed`\n",
    "    + If compression is needed then: `zipfile.ZipFile('name_of_zip_creating.zip','w',compression=zipfile.ZIP_DEFLATED)`\n",
    "\n",
    "+ We are calling the url to grab the file of interest\n",
    "    + from there we create a variable called `response`\n",
    "    + print the response to see if it is 'ok' and the actual response code which should be 200\n",
    "+ Using `with open` allows us to call the file of interest which is a built in function within Python.\n",
    "+ You have *2 arguments to enter*: \n",
    "    \n",
    "    1.) file name to be opened\n",
    "        \n",
    "    2.) how you want to call file ('read or write') for example.\n",
    "    + For this example we will use the mode `wb` which is writing the file to bytes\n",
    "+ Afterward we are writing the file to bites with the variable name `,,,,,`\n",
    "+ After this block of code is finished the file will be closed because of the `with` statement in the beginning."
   ]
  },
  {
   "cell_type": "code",
   "execution_count": null,
   "id": "d90e1733",
   "metadata": {},
   "outputs": [],
   "source": [
    "# reading the file and then extract everything:\n",
    "with ZipFile('chromedriver-mac-x64.zip', 'r') as file_unzip:\n",
    "\n",
    "# Extract files into current working directory\n",
    "    file_unzip.extractall()"
   ]
  },
  {
   "cell_type": "markdown",
   "id": "d278892a",
   "metadata": {},
   "source": [
    "# `We have 2 options when extracting a file directly:`\n",
    "+ `extract()`\n",
    "+ `extractall()`\n",
    "\n",
    "**zipfile can unzip passowrd protected files but NOT encrypt them**\n",
    "+ As a note this is a SLOW process because it is implemented using Python not C code...\n",
    "\n",
    "also, **AES encryption is not supported as well**\n",
    "\n",
    "[Official Python Source: consider reading](https://docs.python.org/3/library/zipfile.html)"
   ]
  },
  {
   "cell_type": "code",
   "execution_count": null,
   "id": "56d527df",
   "metadata": {},
   "outputs": [],
   "source": [
    "with os.scandir('/Users/Mr_Fugu_isCool/Desktop/chromedriver-mac-x64') as entries:\n",
    "    for entry in entries:\n",
    "        print(entry.name)"
   ]
  },
  {
   "cell_type": "code",
   "execution_count": null,
   "id": "c48f125d",
   "metadata": {},
   "outputs": [],
   "source": [
    "# find location of file download\n",
    "# create folder to store file \n",
    "# move file to new location"
   ]
  },
  {
   "cell_type": "code",
   "execution_count": null,
   "id": "b75f7d44",
   "metadata": {},
   "outputs": [],
   "source": [
    "# Possible fast ways to go through many files\n",
    "\n",
    "# Explain file types, reading or writing issues many\n",
    "\n",
    "# "
   ]
  },
  {
   "cell_type": "code",
   "execution_count": null,
   "id": "7d96c617",
   "metadata": {},
   "outputs": [],
   "source": [
    "# What to do if file is encrypted or password protected? other video..."
   ]
  },
  {
   "cell_type": "markdown",
   "id": "3efc2383",
   "metadata": {},
   "source": [
    "# `Ex.) Add files to existing zip file:`"
   ]
  },
  {
   "cell_type": "code",
   "execution_count": 2,
   "id": "d3a9588b",
   "metadata": {},
   "outputs": [
    {
     "ename": "NameError",
     "evalue": "name 'zipfile' is not defined",
     "output_type": "error",
     "traceback": [
      "\u001b[0;31m---------------------------------------------------------------------------\u001b[0m",
      "\u001b[0;31mNameError\u001b[0m                                 Traceback (most recent call last)",
      "Cell \u001b[0;32mIn[2], line 2\u001b[0m\n\u001b[1;32m      1\u001b[0m \u001b[38;5;66;03m# Opening the zip file to append a new one\u001b[39;00m\n\u001b[0;32m----> 2\u001b[0m zip_file \u001b[38;5;241m=\u001b[39m \u001b[43mzipfile\u001b[49m\u001b[38;5;241m.\u001b[39mZipFile(\u001b[38;5;124m'\u001b[39m\u001b[38;5;124msingle_file.zip\u001b[39m\u001b[38;5;124m'\u001b[39m, mode\u001b[38;5;241m=\u001b[39m\u001b[38;5;124m'\u001b[39m\u001b[38;5;124ma\u001b[39m\u001b[38;5;124m'\u001b[39m)\n\u001b[1;32m      4\u001b[0m \u001b[38;5;66;03m# Look what is inside\u001b[39;00m\n\u001b[1;32m      5\u001b[0m zip_read\u001b[38;5;241m.\u001b[39mnamelist()\n",
      "\u001b[0;31mNameError\u001b[0m: name 'zipfile' is not defined"
     ]
    }
   ],
   "source": [
    "# Opening the zip file to append a new one\n",
    "zip_file = zipfile.ZipFile('single_file.zip', mode='a')\n",
    "\n",
    "# Look what is inside\n",
    "zip_read.namelist()\n",
    "\n",
    "# Adding file\n",
    "zip_file.write('all_blue.bmp')\n",
    "\n",
    "# Check what is inside\n",
    "zip_read.namelist()\n",
    "\n",
    "# Closing everything out to free up memory:\n",
    "zip_read.close()"
   ]
  },
  {
   "cell_type": "markdown",
   "id": "9477aee0",
   "metadata": {},
   "source": [
    "# Ex.) `Shutil` used for file management\n",
    "\n",
    "This is used with folders 'directories' not individual files"
   ]
  },
  {
   "cell_type": "code",
   "execution_count": 8,
   "id": "0158c572",
   "metadata": {},
   "outputs": [],
   "source": [
    "import shutil"
   ]
  },
  {
   "cell_type": "code",
   "execution_count": 9,
   "id": "aad8fcf7",
   "metadata": {},
   "outputs": [],
   "source": [
    "# ex.) Create zipped file from existing files\n",
    "\n",
    "# shutil.make_archive('file_name_to_create','')"
   ]
  },
  {
   "cell_type": "markdown",
   "id": "760bdf4e",
   "metadata": {},
   "source": [
    "`How does the above code work?`\n",
    "\n",
    "+ `shutil.make_archive(1,2,3)` takes 3 arguments\n",
    "\n",
    "    1.) file name we are creating within the zip file\n",
    "    \n",
    "    2.) type of zip we will perform\n",
    "    \n",
    "    3.) the folder 'directory' for which we want to zip"
   ]
  },
  {
   "cell_type": "markdown",
   "id": "6db1ff1f",
   "metadata": {},
   "source": [
    "# Ex.) `Extracting contents with Shutil`\n",
    "\n",
    "File formats we can use for zipping files with `shutil`\n",
    "\n",
    "+ zip\n",
    "+ gzip\n",
    "+ tar\n",
    "+ gztar\n",
    "+ bztar\n",
    "+ xztar\n",
    "\n",
    "**Does NOT support encryption/decryption**"
   ]
  },
  {
   "cell_type": "code",
   "execution_count": null,
   "id": "93908a09",
   "metadata": {},
   "outputs": [],
   "source": [
    "shutil.unpack_archive()"
   ]
  },
  {
   "cell_type": "markdown",
   "id": "55caa5fb",
   "metadata": {},
   "source": [
    "Above explanation:\n",
    "    \n",
    "1.) zip file to call for un-zipping including the zip extension such as .zip,.gzip, etc\n",
    "\n",
    "2.) name of folder you are un-packing to\n",
    "\n",
    "3.) "
   ]
  },
  {
   "cell_type": "markdown",
   "id": "5c324e1c",
   "metadata": {},
   "source": [
    "# Adding files to existing zip folder"
   ]
  },
  {
   "cell_type": "code",
   "execution_count": null,
   "id": "a017ceea",
   "metadata": {},
   "outputs": [],
   "source": []
  },
  {
   "cell_type": "code",
   "execution_count": null,
   "id": "77f1b9dd",
   "metadata": {},
   "outputs": [],
   "source": [
    "# https://geekpython.in/zipfile-read-and-write-zip-files-without-extracting-it-in-python"
   ]
  },
  {
   "cell_type": "code",
   "execution_count": null,
   "id": "4853a66c",
   "metadata": {},
   "outputs": [],
   "source": []
  },
  {
   "cell_type": "markdown",
   "id": "419dd432",
   "metadata": {},
   "source": [
    "# Like, Share & <font color=red>SUB</font>scribe"
   ]
  },
  {
   "cell_type": "markdown",
   "id": "3bbbbabd",
   "metadata": {},
   "source": [
    "# `Citations`\n",
    "\n",
    "# ◔̯◔\n",
    "\n",
    "https://realpython.com/python-download-file-from-url/\n",
    "\n",
    "https://www.freecodecamp.org/news/creating-a-directory-in-python-how-to-create-a-folder/\n",
    "\n",
    "https://www.learndatasci.com/solutions/python-move-file/\n",
    "\n",
    "https://www.studytonight.com/python-howtos/how-to-unzip-file-in-python\n",
    "\n",
    "https://superuser.com/questions/1144651/get-chrome-version-from-commandline-in-mac\n",
    "\n",
    "https://docs.python.org/3/library/zipfile.html\n",
    "\n",
    "https://note.nkmk.me/en/python-zipfile/\n",
    "\n",
    "https://www.peterbe.com/plog/fastest-way-to-unzip-a-zip-file-in-python\n",
    "\n",
    "https://www.makeuseof.com/python-zip-unzip-files/\n",
    "\n",
    "https://favtutor.com/blogs/zipfile-python\n",
    "\n",
    "https://adamtheautomator.com/python-zip/\n",
    "\n",
    "https://www.geeksforgeeks.org/python-shutil-copy-method/"
   ]
  }
 ],
 "metadata": {
  "kernelspec": {
   "display_name": "Python 3 (ipykernel)",
   "language": "python",
   "name": "python3"
  },
  "language_info": {
   "codemirror_mode": {
    "name": "ipython",
    "version": 3
   },
   "file_extension": ".py",
   "mimetype": "text/x-python",
   "name": "python",
   "nbconvert_exporter": "python",
   "pygments_lexer": "ipython3",
   "version": "3.10.9"
  }
 },
 "nbformat": 4,
 "nbformat_minor": 5
}
