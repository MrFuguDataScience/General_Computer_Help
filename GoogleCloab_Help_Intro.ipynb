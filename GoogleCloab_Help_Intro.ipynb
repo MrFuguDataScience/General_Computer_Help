{
 "cells": [
  {
   "cell_type": "markdown",
   "id": "fd540db7",
   "metadata": {},
   "source": [
    "# `Google Colab Basics Help:`\n",
    "\n",
    "# <font color =red>Mr Fugu Data Science</font>\n",
    "\n",
    "# (◕‿◕✿)"
   ]
  },
  {
   "cell_type": "markdown",
   "id": "e57ca04b",
   "metadata": {},
   "source": [
    "# `Important note about using Google Colab:`\n",
    "    \n",
    "+ Your variables and workspace are limited by time as well as resources. You have a timeout of 12 hours. \n",
    "+ There is another side note: 90 minute idel timeout\n",
    "+ You have a disk usuage of 108GB with a max usable 77GB\n",
    "+ Ram and GPU are something to consider as well.\n",
    "\n",
    "# `Considerations for using Colab:`\n",
    "\n",
    "1.) Because you are limited on resources, big data can pose an issue.\n",
    "+ A work around is using Google Drive to import data but you are limited to 15GB for FREE, then you pay for storage.\n",
    "\n",
    "2.) Free GPU use takes advantage of K80\n",
    "\n",
    "`Pro's:`\n",
    "+ No dependencies needed on your local device\n",
    "+ Free use and relatively easy startup\n",
    "+ Sharing your code with anyone\n",
    "+ Code can be written in Python\n",
    "\n",
    "\n",
    "`Cons:`\n",
    "+ Free use of GPU or TPU (such as K80) is not the fasted. And the free version is rate limited based on ram, timing out for example. \n",
    "+ large data need to be stored in GCP or Google Drive\n",
    "+ There are obviously better options such as AWS "
   ]
  },
  {
   "cell_type": "markdown",
   "id": "7fc3bb8e",
   "metadata": {},
   "source": [
    "# `Shortcut Functions:`\n",
    "\n",
    "*`you do not need to capitalize the letters, it is just to make more visible`*\n",
    "**`If you have a Mac, you will use Command instead of Control (CTRL)`**\n",
    "\n",
    "+ `Command Pallete:` **Ctrl + Shift + P**\n",
    "+ `Add a Comment:` **Ctrl + Alt + M** \n",
    "+ `Convert to Text Cell:` **Ctrl + M + M** (double tap m)\n",
    "+ `Add a New Cell Below:` **Ctrl + B + B**\n",
    "+ `Run All Cells:` **Ctrl + F9**\n",
    "+ `Run the Current cell:` **Ctrl + Enter**\n",
    "+ `Save Notebook:` **Ctrl + S**\n",
    "+ `Show Keyboard Shortcuts:` **Ctrl + M + H**\n",
    "+ `Interrupt Execution:` **Ctrl + M + I**\n",
    "+ `Move Cell Up:` **Ctrl + M + K**\n",
    "+ `Delete Cell:` **Ctrl + M + D**\n",
    "+ `Create a New Cell Above:` **Ctrl + M + A**\n",
    "+ `Create New Cell Below:` **Ctrl + M + B**\n",
    "+ `Convert a Text Cell to Code:` **Ctrl + M + Y**\n",
    "+ `Undo Last Action:` **Ctrl + M + Z**\n",
    "\n",
    "# Additional Commands: Inline\n",
    "\n",
    "+ `Copy Current Line Above:` **Shift + Alt + Up** \n",
    "+ `Copy Current Line Below:` **Shift + Alt + down**\n",
    "+ `Move Current Line Up:` **Alt + up**\n",
    "+  `Move Current Line Down:` **Alt + down**\n",
    "+ `current line comment:` **Ctrl + /**\n",
    "\n",
    "\n",
    "# `Magic Functions:`\n",
    "\n",
    "+ `line Magic` function that is used for current line within a given cell and use only a single **`%`**\n",
    "+ `Cell Magic:` this is an extension from above where you use double **`%%`** and it focuses on anything within entire cell\n",
    "\n",
    "Example of Useful Starting Point: \n",
    "\n",
    "+ Help for Magic Commands: `%magic`\n",
    "\n",
    "+ List of Magic Commands: `%lsmagic`\n"
   ]
  },
  {
   "cell_type": "markdown",
   "id": "fa7a9994",
   "metadata": {},
   "source": [
    "# `Lets' Practice some examples:`\n",
    "\n",
    "1.) `Move lines of code up and down:` Hold option then toggle the up/down arrow to move\n",
    "\n",
    "2.) "
   ]
  },
  {
   "cell_type": "code",
   "execution_count": null,
   "id": "7c9bf54c",
   "metadata": {},
   "outputs": [],
   "source": [
    "hellow sir how are you?\n",
    "I am doing just fine"
   ]
  },
  {
   "cell_type": "markdown",
   "id": "870864bf",
   "metadata": {},
   "source": [
    "# `Stop Colab from disconnecting:`\n",
    "\n",
    "`function KeepClicking(){`\n",
    "\n",
    "`console.log(\"Clicking\");`\n",
    "\n",
    "`document.querySelector(\"colab-connect-button\").click()`\n",
    "`}`\n",
    "\n",
    "`setInterval(KeepClicking,60000)`"
   ]
  },
  {
   "cell_type": "markdown",
   "id": "8891c86b",
   "metadata": {},
   "source": [
    "# `Colab basics:` \n",
    "\n",
    "1.) `working directory:` \n",
    "\n",
    "**`!pwd`**\n",
    "    \n",
    "2.) `Change Working Directory:`\n",
    "\n",
    "\n",
    "3.) `Create A New Directory:`\n",
    "\n",
    "**`!touch '/content/gdrive'`+`'/My_New_Folder_Name/'`**"
   ]
  },
  {
   "cell_type": "markdown",
   "id": "2b6cecf5",
   "metadata": {},
   "source": [
    "# `Last cool note for 1st part:`\n",
    "\n",
    "Creating interactive Tables for Pandas DF's allowing you to manipulate with simply typing what you want\n",
    "\n",
    "+ Enable: **`%load_ext google.colab.data_table`**\n",
    "\n",
    "and \n",
    "\n",
    "+ Disable with: **`%unload_ext google.colab.data_table`**\n",
    "\n"
   ]
  },
  {
   "cell_type": "code",
   "execution_count": null,
   "id": "bf5fcc94",
   "metadata": {},
   "outputs": [],
   "source": [
    "# Adding file from Github: \n"
   ]
  },
  {
   "cell_type": "code",
   "execution_count": null,
   "id": "045c1707",
   "metadata": {},
   "outputs": [],
   "source": [
    "# Connecting Colab to use Google Drive and Interface with Github\n",
    "\n",
    "from google.colab import drive\n",
    "drive.mount('/content/drive')"
   ]
  },
  {
   "cell_type": "markdown",
   "id": "3cbc36b6",
   "metadata": {},
   "source": [
    "# Access Kaggle Datasets: \n",
    "\n",
    "`!kaggle competitions download Type_competition_name_here`"
   ]
  },
  {
   "cell_type": "markdown",
   "id": "413b48e8",
   "metadata": {},
   "source": [
    "# `Create Google Sheet Using Python DF:`\n",
    "\n",
    "you can have access to Google sheets but, if you want to make visable or share them you will need to provide/link an email."
   ]
  },
  {
   "cell_type": "code",
   "execution_count": null,
   "id": "d8434ab0",
   "metadata": {},
   "outputs": [],
   "source": [
    "# Create Google Sheet Using Python DF:\n",
    "\n",
    "from google.colab import auth\n",
    "auth.authenticate_user()\n",
    "\n",
    "import gspread\n",
    "from google.auth import default\n",
    "creds, _ = default()\n",
    "\n",
    "gc = gspread.authorize(creds)\n",
    "\n",
    "# you will need to give permission to use this from your Google account\n",
    "\n",
    "# if you already have a google sheet of interest to use: \n",
    "\n",
    "# sh = gc.open('My poor gym results') # as a side note this will not ask for a key!"
   ]
  },
  {
   "cell_type": "markdown",
   "id": "30b8a209",
   "metadata": {},
   "source": [
    "# Selecting the Worksheets:\n",
    "\n",
    "We have a few ways to do this:\n",
    "\n",
    "1.) `Index`\n",
    "\n",
    "2.) `Title`\n",
    "\n",
    "3.) `Common Case`"
   ]
  },
  {
   "cell_type": "code",
   "execution_count": 5,
   "id": "1f8c5021",
   "metadata": {},
   "outputs": [],
   "source": [
    "# Connect Google Cloud to Colab:\n",
    "\n"
   ]
  },
  {
   "cell_type": "markdown",
   "id": "8a4e16a9",
   "metadata": {},
   "source": [
    "# Kaggle & Google Colab: \n",
    "\n",
    "we have a few steps to get this synced up:\n",
    "\n",
    "1.) you will need to ahve an account with Kaggle\n",
    "\n",
    "2.) get an API Token\n",
    "\n",
    "3.) Open up Google Colab session\n",
    "\n",
    "4.) \n",
    "\n",
    "`!pip install -q kaggle`\n",
    "\n",
    "`from google.colab import files`"
   ]
  },
  {
   "cell_type": "markdown",
   "id": "5a002cb8",
   "metadata": {},
   "source": [
    "# `Accessing MySQL from Colab:`\n",
    "\n",
    "`import sqlalchemy`"
   ]
  },
  {
   "cell_type": "code",
   "execution_count": null,
   "id": "bd0c1556",
   "metadata": {},
   "outputs": [],
   "source": []
  },
  {
   "cell_type": "code",
   "execution_count": null,
   "id": "53d57ee4",
   "metadata": {},
   "outputs": [],
   "source": []
  },
  {
   "cell_type": "code",
   "execution_count": 4,
   "id": "f5e411f4",
   "metadata": {},
   "outputs": [],
   "source": [
    "# Notes for videos: \n",
    "\n",
    "# Stable diffusion `automatic1111`\n",
    "# #https://stable-diffusion-art.com/automatic1111-colab/\n",
    "\n",
    "# ML model example:\n",
    "# #https://www.nannyml.com/blog/tutorial-monitoring-ml-model-with-nannyml-google-colab\n",
    "\n",
    "# Split and do a separate video featuring the Google sheets with Colab\n",
    "\n",
    "# Google Cloud Bucket creation: \n",
    "# https://cloud.google.com/storage/docs/gsutil/commands/mb"
   ]
  },
  {
   "cell_type": "markdown",
   "id": "38be0c93",
   "metadata": {},
   "source": [
    "# Like, Share & <font color=red>SUB</font> scribe"
   ]
  },
  {
   "cell_type": "markdown",
   "id": "598602a7",
   "metadata": {},
   "source": [
    "# Citations: \n",
    "\n",
    "# ◔̯◔\n",
    "\n",
    "https://towardsdatascience.com/google-drive-google-colab-github-dont-just-read-do-it-5554d5824228\n",
    "\n",
    "https://medium.com/analytics-vidhya/how-to-use-google-colab-with-github-via-google-drive-68efb23a42d\n",
    "\n",
    "https://colab.research.google.com/github/googlecolab/colabtools/blob/master/notebooks/colab-github-demo.ipynb\n",
    "\n",
    "https://speech.ee.ntu.edu.tw/~hylee/ml/ml2021-course-data/hw/Colab/Google_Colab_Tutorial.pdf\n",
    "\n",
    "https://www.tensorflow.org/tutorials/quickstart/beginner\n",
    "\n",
    "https://towardsdatascience.com/7-ways-to-load-external-data-into-google-colab-7ba73e7d5fc7\n",
    "\n",
    "https://colab.research.google.com/notebooks/io.ipynb\n",
    "\n",
    "https://github.com/burnash/gspread#more-examples\n",
    "\n",
    "https://colab.research.google.com/notebooks/io.ipynb#scrollTo=yjrZQUrt6kKj\n",
    "\n",
    "https://medium.com/geekculture/how-to-load-a-dataset-from-the-google-drive-to-google-colab-67d0478bc634\n",
    "\n",
    "https://neptune.ai/blog/how-to-use-google-colab-for-deep-learning-complete-tutorial\n",
    "\n",
    "https://colab.research.google.com/github/kenperry-public/ML_Fall_2019/blob/master/Colab_practical.ipynb\n",
    "\n",
    "https://discuss.python.org/t/google-colab-how-should-we-move-the-current-directory-to-the-directory-of-the-present-file/15286/3\n",
    "\n",
    "https://neptune.ai/blog/google-colab-dealing-with-files\n",
    "\n",
    "https://towardsdatascience.com/different-ways-to-connect-google-drive-to-a-google-colab-notebook-pt-1-de03433d2f7a\n",
    "\n",
    "https://www.analyticsvidhya.com/blog/2021/06/how-to-load-kaggle-datasets-directly-into-google-colab/\n",
    "\n",
    "https://algotrading101.com/learn/google-colab-guide/\n",
    "\n",
    "https://www.jcchouinard.com/google-colab-with-python/\n",
    "\n",
    "https://colab.research.google.com/drive/13IO3-gfyS9mSPuzAo6-wsYBUOVpxb_va?usp=sharing#scrollTo=EWHxTjdKaNxS\n",
    "\n",
    "https://towardsdatascience.com/10-tips-for-a-better-google-colab-experience-33f8fe721b82\n",
    "\n",
    "https://towardsdatascience.com/jypyter-notebook-shortcuts-bf0101a98330\n",
    "\n",
    "https://allardqjy.medium.com/8-must-know-editing-shortcuts-for-google-colab-b440d5de3c69\n",
    "\n",
    "https://billywrites.medium.com/jupyter-notebook-shortcuts-for-mac-b6edf978b089"
   ]
  }
 ],
 "metadata": {
  "kernelspec": {
   "display_name": "Python 3 (ipykernel)",
   "language": "python",
   "name": "python3"
  },
  "language_info": {
   "codemirror_mode": {
    "name": "ipython",
    "version": 3
   },
   "file_extension": ".py",
   "mimetype": "text/x-python",
   "name": "python",
   "nbconvert_exporter": "python",
   "pygments_lexer": "ipython3",
   "version": "3.10.9"
  }
 },
 "nbformat": 4,
 "nbformat_minor": 5
}
