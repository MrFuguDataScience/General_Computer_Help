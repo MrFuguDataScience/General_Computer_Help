{
 "cells": [
  {
   "cell_type": "markdown",
   "id": "e7391e06-c39c-41e5-97af-de069be712ce",
   "metadata": {},
   "source": [
    "# <font color=red>Mr Fugu Data Science</font>\n",
    "\n",
    "# `ZSH Terminal Output Default`\n",
    "\n",
    "# (◕‿◕✿)"
   ]
  },
  {
   "cell_type": "markdown",
   "id": "55351231-9865-48b1-a596-735cb9f2993a",
   "metadata": {},
   "source": [
    "`What is motivation for this video?`\n",
    "\n",
    "+ How is Anaconda stored on Mac default GUI vs Terminal\n",
    "+ Why is terminal showing ZSH as default now?\n",
    "    + Should I use ZSH or Bash?\n",
    "+ Why is my ip address shown in default ZSH?\n",
    "    + How is ZSH setup for formatting?\n",
    "    + Change/customize layout\n",
    "+ *System Settings -> General -> Sharing -> Profiles -> Loca Host Name*\n",
    "+ `Terminal`\n",
    "    + *Terminal -> Settings -> Profiles -> Window -> Title*\n",
    "        + Then show how this changes top of Terminal when you toggle\n",
    "          \n",
    "# Default Format* of `PS1` string my device:\n",
    "\n",
    "**`# Default prompt`**\n",
    "\n",
    "`PS1=\"%n@%m %1~ %# \"`\n",
    "\n",
    "`------------------------------`\n",
    "\n",
    "*Meaning of each piece:*\n",
    "\n",
    "`%n`current user name\n",
    "\n",
    "`@` literal at symbol\n",
    "\n",
    "`%m` hostname\n",
    "\n",
    "`' '` literal space\n",
    "\n",
    "`%1~` current working directory with a tilde\n",
    "\n",
    "`%#` root (super user), if you see `%` only it is a regular user\n",
    "\n",
    "`------------------------------`\n",
    "\n",
    "# Change PS1 variable within zsh file\n",
    "    + \n",
    "\n",
    "\n",
    "\n",
    "\n",
    "\n",
    "The $PS1 variable in Linux is an environment variable that defines the format of the command prompt displayed in the terminal.It stands for “Prompt String 1” and is used to customize the appearance of the prompt.\n",
    "\n",
    "[Citation: 1](https://medium.com/@linuxadminhacks/what-is-the-ps1-variable-in-linux-unix-9932e981c276#:~:text=The%20$PS1%20variable%20in,the%20appearance%20of%20the%20prompt)\n",
    "\n",
    "[Citation: 2](https://www.makeuseof.com/customize-zsh-prompt-macos-terminal/)"
   ]
  },
  {
   "cell_type": "markdown",
   "id": "30247210-bed4-4044-869c-c51c523b3334",
   "metadata": {},
   "source": [
    "# `Citations:`\n",
    "\n",
    "# ◔̯◔\n",
    "\n",
    "`ZSH vs BASH`\n",
    "\n",
    "https://stackoverflow.com/questions/66783016/zsh-is-showing-userip-instead-of-userhostname\n",
    "\n",
    "https://stackoverflow.com/questions/31848957/zsh-hide-computer-name-in-terminal\n",
    "\n",
    "`Good site breakdown of modifying the file name format in terminal:`\n",
    "https://davidmyers.dev/blog/a-guide-to-customizing-the-zsh-shell-prompt"
   ]
  }
 ],
 "metadata": {
  "kernelspec": {
   "display_name": "Python [conda env:base] *",
   "language": "python",
   "name": "conda-base-py"
  },
  "language_info": {
   "codemirror_mode": {
    "name": "ipython",
    "version": 3
   },
   "file_extension": ".py",
   "mimetype": "text/x-python",
   "name": "python",
   "nbconvert_exporter": "python",
   "pygments_lexer": "ipython3",
   "version": "3.12.7"
  }
 },
 "nbformat": 4,
 "nbformat_minor": 5
}
