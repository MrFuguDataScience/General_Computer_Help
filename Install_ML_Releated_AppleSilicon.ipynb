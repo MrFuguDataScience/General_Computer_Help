{
 "cells": [
  {
   "cell_type": "code",
   "execution_count": 6,
   "id": "217e0e79-f213-41c1-b3f7-235c319aa04d",
   "metadata": {},
   "outputs": [
    {
     "data": {
      "text/plain": [
       "'2.19.0'"
      ]
     },
     "execution_count": 6,
     "metadata": {},
     "output_type": "execute_result"
    }
   ],
   "source": [
    "import tensorflow as tf\n",
    "tf.__version__"
   ]
  },
  {
   "cell_type": "code",
   "execution_count": 14,
   "id": "54c6b3e6-ff9a-4f2b-bc69-687bb3f17f5d",
   "metadata": {},
   "outputs": [
    {
     "name": "stdout",
     "output_type": "stream",
     "text": [
      "GPU's Available:  1\n"
     ]
    }
   ],
   "source": [
    "print(\"GPU's Available: \", len(tf.config.experimental.list_physical_devices('GPU')))"
   ]
  },
  {
   "cell_type": "markdown",
   "id": "c8e4c1ee-a480-4c4c-8bb1-c009b0c1b76a",
   "metadata": {},
   "source": [
    "# <font color=red>Mr Fugu Data Science</font>\n",
    "\n",
    "# `Installing TensorFlow on Apple Silicon 3 Different Options:`\n",
    "\n",
    "\n",
    "# *Download/Install Xcode:* `xcode-select --install`\n",
    "\n",
    "# `Conda forge vs Anaconda for ML models Mac:`\n",
    "\n",
    "https://conda-forge.org/docs/user/introduction/\n",
    "\n",
    "Install Mini-conda (change default channels) for your installed packages (to avoid commercial license problems)\n",
    "\n",
    "Read the reasons you may need this from the citation at bottom of document.\n",
    "\n",
    "or\n",
    "\n",
    "Mini-Forge Installer\n",
    "\n",
    "https://www.anaconda.com/blog/is-conda-free`\n",
    "\n",
    "\n",
    "# **Here is something interesting:**\n",
    "\n",
    "**`Depending on how you download and install TensorFlow on device gives vastly different versions.`**\n",
    "\n",
    "`I have 2 ways I installed this on Apple Silicon M4 today in 2 different Environments:`\n",
    "\n",
    "`--------------------------------------------------`\n",
    "\n",
    "# 1.) (Older Versions `2.12<`)\n",
    "\n",
    "+ `conda create --name TF_Env --no-default-packages`\n",
    "\n",
    "+ `conda activate TF_Env`\n",
    "\n",
    "+ `conda install -c apple tensorflow-deps`\n",
    "\n",
    "+ `conda install tensorflow` (This will work but downgrades packages because of last step dependencies)\n",
    "\n",
    "+ `pip install tensorflow-metal`\n",
    "\n",
    "+ `pip install ipykernel`\n",
    "\n",
    "+ switch to location where Jupyter Notebook is located, usually (base): `conda activate base` then run `jupyter notebook`\n",
    "\n",
    "+ in the GUI go to `New` and you will see the updated kernel for `TF_Env`\n",
    "\n",
    "+ `import tensorflow as tf`, `tf.__version__`\n",
    "\n",
    "(gives me 2.12)\n",
    "\n",
    "+ `print(\"GPU's Available: \", len(tf.config.experimental.list_physical_devices('GPU')))`\n",
    "\n",
    "\n",
    "+ EX.)\n",
    "\n",
    "`cifar = tf.keras.datasets.cifar100\n",
    "(x_train, y_train), (x_test, y_test) = cifar.load_data()\n",
    "model = tf.keras.applications.ResNet50(\n",
    "    include_top=True,\n",
    "    weights=None,\n",
    "    input_shape=(32, 32, 3),\n",
    "    classes=100,)\n",
    "loss_fn = tf.keras.losses.SparseCategoricalCrossentropy(from_logits=False)\n",
    "model.compile(optimizer=\"adam\", loss=loss_fn, metrics=[\"accuracy\"])\n",
    "model.fit(x_train, y_train, epochs=5, batch_size=64)`\n",
    "\n",
    "`--------------------------------------------------`\n",
    "\n",
    "# 2.) (Never Version `2.13 >=`)\n",
    "\n",
    "+ `conda create --name TF_Env_V2 --no-default-packages`\n",
    "\n",
    "+ `conda activate TF_Env_V2 `\n",
    "\n",
    "+ `conda install pip`\n",
    "\n",
    "+ `pip install tensorflow` (you will get an error! this is due to Python Versions not matching with TF)\n",
    "\n",
    "+ Then you need to downgrade Python because I had 13 install :(\n",
    "\n",
    "`conda install python==3.11`\n",
    "\n",
    "+ `pip install tensorflow` now it will work!\n",
    "\n",
    "+ `pip install tensorflow-metal`\n",
    "\n",
    "+ `pip install ipykernel`\n",
    "\n",
    "+ Now `conda activate base` and then when it opens `jupyter notebook`\n",
    "    + Check your kernels in the browser and it will be updated\n",
    "    + Next `import tensorflow as tf`, `tf.__version__` and I have 2.19\n",
    "      \n",
    "+ `print(\"GPU's Available: \", len(tf.config.experimental.list_physical_devices('GPU')))`\n",
    "\n",
    "\n",
    "+ EX.)\n",
    "\n",
    "`cifar = tf.keras.datasets.cifar100\n",
    "(x_train, y_train), (x_test, y_test) = cifar.load_data()\n",
    "model = tf.keras.applications.ResNet50(\n",
    "    include_top=True,\n",
    "    weights=None,\n",
    "    input_shape=(32, 32, 3),\n",
    "    classes=100,)\n",
    "loss_fn = tf.keras.losses.SparseCategoricalCrossentropy(from_logits=False)\n",
    "model.compile(optimizer=\"adam\", loss=loss_fn, metrics=[\"accuracy\"])\n",
    "model.fit(x_train, y_train, epochs=5, batch_size=64)`\n",
    "\n",
    "`--------------------------------------------------`\n",
    "\n",
    "**This Section for those using TensorFlow outside of a Conda Env**\n",
    "\n",
    "\n",
    "# 3.) ` This is for your vm/editor` \n",
    "\n",
    "+ **Create an environment:**\n",
    "\n",
    "\n",
    "  `python3 -m venv .venv`\n",
    "  \n",
    "+ **Activate the .venv for use:**\n",
    "\n",
    " `source .venv/bin/activate`\n",
    " \n",
    "+ **Need to Install Pip/upgrade version:**\n",
    "\n",
    "`pip install -U pip`\n",
    "\n",
    "+ `Install TensorFlow and GPU usuage (metal)`\n",
    "  \n",
    " `pip install tensorflow tensorflow-metal`\n",
    "\n",
    "+ **Open Python or your Editor and check that it worked:**\n",
    "\n",
    "`import tensorflow as tf`, and this afterward `tf.__version__`\n",
    "\n",
    "Ex.) `cifar = tf.keras.datasets.cifar100\n",
    "(x_train, y_train), (x_test, y_test) = cifar.load_data()\n",
    "model = tf.keras.applications.ResNet50(\n",
    "    include_top=True,\n",
    "    weights=None,\n",
    "    input_shape=(32, 32, 3),\n",
    "    classes=100,)\n",
    "loss_fn = tf.keras.losses.SparseCategoricalCrossentropy(from_logits=False)\n",
    "model.compile(optimizer=\"adam\", loss=loss_fn, metrics=[\"accuracy\"])\n",
    "model.fit(x_train, y_train, epochs=5, batch_size=64)`"
   ]
  },
  {
   "cell_type": "markdown",
   "id": "3d8bb33e-cdc9-4234-bae8-25cf67ae2bbd",
   "metadata": {},
   "source": [
    "# **`Install JAX:`**"
   ]
  },
  {
   "cell_type": "code",
   "execution_count": 32,
   "id": "21b5b5da-8037-448f-9c83-d1951c353124",
   "metadata": {},
   "outputs": [
    {
     "name": "stdout",
     "output_type": "stream",
     "text": [
      "Collecting jax-metal\n",
      "  Downloading jax_metal-0.1.1-py3-none-macosx_13_0_arm64.whl.metadata (2.7 kB)\n",
      "Requirement already satisfied: wheel~=0.35 in /opt/anaconda3/envs/TF_Env_V2/lib/python3.11/site-packages (from jax-metal) (0.45.1)\n",
      "Requirement already satisfied: six>=1.15.0 in /opt/anaconda3/envs/TF_Env_V2/lib/python3.11/site-packages (from jax-metal) (1.17.0)\n",
      "Collecting jaxlib>=0.4.34 (from jax-metal)\n",
      "  Downloading jaxlib-0.6.0-cp311-cp311-macosx_11_0_arm64.whl.metadata (1.2 kB)\n",
      "Collecting jax>=0.4.34 (from jax-metal)\n",
      "  Downloading jax-0.6.0-py3-none-any.whl.metadata (22 kB)\n",
      "Requirement already satisfied: ml_dtypes>=0.5.0 in /opt/anaconda3/envs/TF_Env_V2/lib/python3.11/site-packages (from jax>=0.4.34->jax-metal) (0.5.1)\n",
      "Requirement already satisfied: numpy>=1.25 in /opt/anaconda3/envs/TF_Env_V2/lib/python3.11/site-packages (from jax>=0.4.34->jax-metal) (2.1.3)\n",
      "Requirement already satisfied: opt_einsum in /opt/anaconda3/envs/TF_Env_V2/lib/python3.11/site-packages (from jax>=0.4.34->jax-metal) (3.4.0)\n",
      "Collecting scipy>=1.11.1 (from jax>=0.4.34->jax-metal)\n",
      "  Downloading scipy-1.15.2-cp311-cp311-macosx_14_0_arm64.whl.metadata (61 kB)\n",
      "Downloading jax_metal-0.1.1-py3-none-macosx_13_0_arm64.whl (41.2 MB)\n",
      "\u001b[2K   \u001b[90m━━━━━━━━━━━━━━━━━━━━━━━━━━━━━━━━━━━━━━━━\u001b[0m \u001b[32m41.2/41.2 MB\u001b[0m \u001b[31m26.7 MB/s\u001b[0m eta \u001b[36m0:00:00\u001b[0ma \u001b[36m0:00:01\u001b[0m\n",
      "\u001b[?25hDownloading jax-0.6.0-py3-none-any.whl (2.3 MB)\n",
      "\u001b[2K   \u001b[90m━━━━━━━━━━━━━━━━━━━━━━━━━━━━━━━━━━━━━━━━\u001b[0m \u001b[32m2.3/2.3 MB\u001b[0m \u001b[31m45.4 MB/s\u001b[0m eta \u001b[36m0:00:00\u001b[0m\n",
      "\u001b[?25hDownloading jaxlib-0.6.0-cp311-cp311-macosx_11_0_arm64.whl (53.5 MB)\n",
      "\u001b[2K   \u001b[90m━━━━━━━━━━━━━━━━━━━━━━━━━━━━━━━━━━━━━━━━\u001b[0m \u001b[32m53.5/53.5 MB\u001b[0m \u001b[31m55.8 MB/s\u001b[0m eta \u001b[36m0:00:00\u001b[0ma \u001b[36m0:00:01\u001b[0m\n",
      "\u001b[?25hDownloading scipy-1.15.2-cp311-cp311-macosx_14_0_arm64.whl (22.4 MB)\n",
      "\u001b[2K   \u001b[90m━━━━━━━━━━━━━━━━━━━━━━━━━━━━━━━━━━━━━━━━\u001b[0m \u001b[32m22.4/22.4 MB\u001b[0m \u001b[31m54.4 MB/s\u001b[0m eta \u001b[36m0:00:00\u001b[0m00:01\u001b[0m00:01\u001b[0m\n",
      "\u001b[?25hInstalling collected packages: scipy, jaxlib, jax, jax-metal\n",
      "Successfully installed jax-0.6.0 jax-metal-0.1.1 jaxlib-0.6.0 scipy-1.15.2\n"
     ]
    }
   ],
   "source": [
    "!pip install jax-metal"
   ]
  },
  {
   "cell_type": "code",
   "execution_count": null,
   "id": "0e6f154b-f3fa-4eb2-95a5-4470bdc16d91",
   "metadata": {},
   "outputs": [],
   "source": [
    "import jax"
   ]
  },
  {
   "cell_type": "code",
   "execution_count": 36,
   "id": "b6e212d3-87a6-4263-8a99-29368c145196",
   "metadata": {},
   "outputs": [
    {
     "data": {
      "text/plain": [
       "'0.6.0'"
      ]
     },
     "execution_count": 36,
     "metadata": {},
     "output_type": "execute_result"
    }
   ],
   "source": [
    "jax.__version__"
   ]
  },
  {
   "cell_type": "code",
   "execution_count": 40,
   "id": "195d8bab-1750-4d03-8efe-f7a00b34b17f",
   "metadata": {},
   "outputs": [
    {
     "name": "stdout",
     "output_type": "stream",
     "text": [
      "[0 1 2 3 4 5 6 7 8 9]\n"
     ]
    }
   ],
   "source": [
    "print(jax.numpy.arange(10))"
   ]
  },
  {
   "cell_type": "code",
   "execution_count": 46,
   "id": "ed3fb36b-9e24-481f-b027-c143237514d8",
   "metadata": {},
   "outputs": [
    {
     "name": "stdout",
     "output_type": "stream",
     "text": [
      "Requirement already satisfied: jaxlib in /opt/anaconda3/envs/TF_Env_V2/lib/python3.11/site-packages (0.6.0)\n",
      "Requirement already satisfied: jax in /opt/anaconda3/envs/TF_Env_V2/lib/python3.11/site-packages (0.6.0)\n",
      "Requirement already satisfied: scipy>=1.11.1 in /opt/anaconda3/envs/TF_Env_V2/lib/python3.11/site-packages (from jaxlib) (1.15.2)\n",
      "Requirement already satisfied: numpy>=1.25 in /opt/anaconda3/envs/TF_Env_V2/lib/python3.11/site-packages (from jaxlib) (2.1.3)\n",
      "Requirement already satisfied: ml_dtypes>=0.2.0 in /opt/anaconda3/envs/TF_Env_V2/lib/python3.11/site-packages (from jaxlib) (0.5.1)\n",
      "Requirement already satisfied: opt_einsum in /opt/anaconda3/envs/TF_Env_V2/lib/python3.11/site-packages (from jax) (3.4.0)\n"
     ]
    }
   ],
   "source": [
    "!pip install -U jaxlib jax"
   ]
  },
  {
   "cell_type": "code",
   "execution_count": null,
   "id": "b7dcd724-f84b-49c0-baa0-a225f77f76b8",
   "metadata": {},
   "outputs": [],
   "source": [
    "# `ENABLE_PJRT_COMPATIBILITY=1` this may be need in some case... if you get errors."
   ]
  }
 ],
 "metadata": {
  "kernelspec": {
   "display_name": "Python [conda env:TF_Env_V2]",
   "language": "python",
   "name": "conda-env-TF_Env_V2-py"
  },
  "language_info": {
   "codemirror_mode": {
    "name": "ipython",
    "version": 3
   },
   "file_extension": ".py",
   "mimetype": "text/x-python",
   "name": "python",
   "nbconvert_exporter": "python",
   "pygments_lexer": "ipython3",
   "version": "3.11.0"
  }
 },
 "nbformat": 4,
 "nbformat_minor": 5
}
